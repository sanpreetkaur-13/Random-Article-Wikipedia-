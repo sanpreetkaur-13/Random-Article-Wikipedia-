{
 "cells": [
  {
   "cell_type": "code",
   "execution_count": 4,
   "metadata": {},
   "outputs": [
    {
     "name": "stdout",
     "output_type": "stream",
     "text": [
      "Collecting wikipedia\n",
      "  Downloading wikipedia-1.4.0.tar.gz (27 kB)\n",
      "Requirement already satisfied: beautifulsoup4 in c:\\users\\hp\\anaconda3\\lib\\site-packages (from wikipedia) (4.8.2)\n",
      "Requirement already satisfied: requests<3.0.0,>=2.0.0 in c:\\users\\hp\\anaconda3\\lib\\site-packages (from wikipedia) (2.22.0)\n",
      "Requirement already satisfied: soupsieve>=1.2 in c:\\users\\hp\\anaconda3\\lib\\site-packages (from beautifulsoup4->wikipedia) (1.9.5)\n",
      "Requirement already satisfied: urllib3!=1.25.0,!=1.25.1,<1.26,>=1.21.1 in c:\\users\\hp\\anaconda3\\lib\\site-packages (from requests<3.0.0,>=2.0.0->wikipedia) (1.25.8)\n",
      "Requirement already satisfied: chardet<3.1.0,>=3.0.2 in c:\\users\\hp\\anaconda3\\lib\\site-packages (from requests<3.0.0,>=2.0.0->wikipedia) (3.0.4)\n",
      "Requirement already satisfied: certifi>=2017.4.17 in c:\\users\\hp\\anaconda3\\lib\\site-packages (from requests<3.0.0,>=2.0.0->wikipedia) (2019.11.28)\n",
      "Requirement already satisfied: idna<2.9,>=2.5 in c:\\users\\hp\\anaconda3\\lib\\site-packages (from requests<3.0.0,>=2.0.0->wikipedia) (2.8)\n",
      "Building wheels for collected packages: wikipedia\n",
      "  Building wheel for wikipedia (setup.py): started\n",
      "  Building wheel for wikipedia (setup.py): finished with status 'done'\n",
      "  Created wheel for wikipedia: filename=wikipedia-1.4.0-py3-none-any.whl size=11689 sha256=4460eb4981ba17cf67903ad728326c6991f741845f7e316b4c0ffcc3d5bf9758\n",
      "  Stored in directory: c:\\users\\hp\\appdata\\local\\pip\\cache\\wheels\\15\\93\\6d\\5b2c68b8a64c7a7a04947b4ed6d89fb557dcc6bc27d1d7f3ba\n",
      "Successfully built wikipedia\n",
      "Installing collected packages: wikipedia\n",
      "Successfully installed wikipedia-1.4.0\n",
      "Note: you may need to restart the kernel to use updated packages.\n"
     ]
    }
   ],
   "source": [
    "pip install wikipedia\n"
   ]
  },
  {
   "cell_type": "code",
   "execution_count": 5,
   "metadata": {},
   "outputs": [],
   "source": [
    "import wikipedia\n"
   ]
  },
  {
   "cell_type": "code",
   "execution_count": 7,
   "metadata": {},
   "outputs": [
    {
     "name": "stdout",
     "output_type": "stream",
     "text": [
      "Collecting webpages\n",
      "  Downloading WebPages-1.0.0a2-py3-none-any.whl (7.9 kB)\n",
      "Collecting webob\n",
      "  Downloading WebOb-1.8.7-py2.py3-none-any.whl (114 kB)\n",
      "Installing collected packages: webob, webpages\n",
      "Successfully installed webob-1.8.7 webpages-1.0.0a2\n",
      "Note: you may need to restart the kernel to use updated packages.\n"
     ]
    }
   ],
   "source": [
    "pip install webpages"
   ]
  },
  {
   "cell_type": "code",
   "execution_count": 8,
   "metadata": {},
   "outputs": [],
   "source": [
    "import webpages"
   ]
  },
  {
   "cell_type": "code",
   "execution_count": 9,
   "metadata": {},
   "outputs": [
    {
     "name": "stdout",
     "output_type": "stream",
     "text": [
      "Would you like to read about Olorogun O'tega Emerhor (Y/N/Q)n\n",
      "Would you like to read about Daozang (Y/N/Q)n\n",
      "Would you like to read about Ansgarde of Burgundy (Y/N/Q)y\n",
      "\n",
      "Summary:\n",
      "--------\n",
      "Ansgarde of Burgundy (d. 880/882) was a French queen of Aquitaine, but never of West Francia, the daughter of Hardouin of Burgundy.  She secretly married Louis II of France before he was king; her sons became Louis III and Carloman II of France.\n",
      "Because Charles the Bald wished to marry his son to Adelaide of Paris, he had to seek a papal annulment; this he did, and Adelaide married Louis in February 875.\n",
      "Ansgarde was thus repudiated, but at the death of Louis II in 879 she worked to ensure that her sons could mount the throne of France themselves.  To that end, she sought to revisit the subject of her divorce with the archbishop of Reims.  Adelaide, however, was pregnant, and gave birth to a son on September 17 of that year, which thus called into doubt the inheritance of Ansgarde's own sons.\n",
      "Ansgarde and her sons attacked Adelaide's marriage, accusing her of adultery; consequently, Louis and Carloman mounted the throne together.  However, both died without issue, and after a long and difficult process Adelaide finally saw her son confirmed as Charles III, the only legitimate heir to the throne.\n",
      "Ansgarde passes into obscurity after this episode, and the date of her death is not conclusively known.\n",
      "\n",
      "Open Wiki page in browser? (Y/N)n\n",
      "Would you like to read about Wau Stadium (Y/N/Q)n\n",
      "Would you like to read about Kościuszko's Squadron (Y/N/Q)q\n"
     ]
    }
   ],
   "source": [
    "def getPage():\n",
    "    wikipage = wikipedia.random(1)\n",
    "    wikiload = wikipedia.page(wikipage)\n",
    "    userchoice = input(\"Would you like to read about {} (Y/N/Q)\".format(wikipage))\n",
    "    if(userchoice == \"Y\" or userchoice == \"y\"):\n",
    "        print(\"\\nSummary:\\n--------\\n\" + wikipedia.summary(wikipage))\n",
    "        wikiopen = input(\"\\nOpen Wiki page in browser? (Y/N)\")\n",
    "        if(wikiopen == \"Y\" or wikiopen == \"y\"):\n",
    "            webbrowser.open(wikiload.url,new=2)\n",
    "        else:\n",
    "            getPage()\n",
    "        exit(0)\n",
    "    elif(userchoice == \"q\" or userchoice == \"Q\"):\n",
    "        exit(0)\n",
    "    else:\n",
    "        getPage()\n",
    "\n",
    "getPage()"
   ]
  },
  {
   "cell_type": "code",
   "execution_count": null,
   "metadata": {},
   "outputs": [],
   "source": []
  }
 ],
 "metadata": {
  "kernelspec": {
   "display_name": "Python 3",
   "language": "python",
   "name": "python3"
  },
  "language_info": {
   "codemirror_mode": {
    "name": "ipython",
    "version": 3
   },
   "file_extension": ".py",
   "mimetype": "text/x-python",
   "name": "python",
   "nbconvert_exporter": "python",
   "pygments_lexer": "ipython3",
   "version": "3.7.6"
  }
 },
 "nbformat": 4,
 "nbformat_minor": 4
}
